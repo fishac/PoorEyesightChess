{
 "cells": [
  {
   "cell_type": "code",
   "execution_count": 1,
   "id": "57734c97",
   "metadata": {},
   "outputs": [],
   "source": [
    "import pandas as pd\n",
    "import torch\n",
    "import torch.optim as optim\n",
    "import torch.nn as nn\n",
    "import time\n",
    "import SquareData\n",
    "import PoorEyesightModel\n",
    "import optuna\n",
    "import torchmetrics"
   ]
  },
  {
   "cell_type": "code",
   "execution_count": 2,
   "id": "fee8728b",
   "metadata": {},
   "outputs": [],
   "source": [
    "SQUARE = 'e4'"
   ]
  },
  {
   "cell_type": "code",
   "execution_count": 4,
   "id": "b2612240",
   "metadata": {},
   "outputs": [
    {
     "data": {
      "text/plain": [
       "['e4_wk',\n",
       " 'e4_bk',\n",
       " 'e4_wq',\n",
       " 'e4_bq',\n",
       " 'e4_wr',\n",
       " 'e4_br',\n",
       " 'e4_wn',\n",
       " 'e4_bn',\n",
       " 'e4_wb',\n",
       " 'e4_bb',\n",
       " 'e4_x',\n",
       " 'e4_wp',\n",
       " 'e4_bp']"
      ]
     },
     "execution_count": 4,
     "metadata": {},
     "output_type": "execute_result"
    }
   ],
   "source": [
    "SquareData.output_features_dict[SQUARE]"
   ]
  },
  {
   "cell_type": "code",
   "execution_count": 5,
   "id": "e7a87ac8",
   "metadata": {},
   "outputs": [
    {
     "data": {
      "text/plain": [
       "device(type='cuda')"
      ]
     },
     "execution_count": 5,
     "metadata": {},
     "output_type": "execute_result"
    }
   ],
   "source": [
    "device = torch.device('cuda' if torch.cuda.is_available() else 'cpu')\n",
    "device"
   ]
  },
  {
   "cell_type": "code",
   "execution_count": 14,
   "id": "6a0a2b79",
   "metadata": {},
   "outputs": [],
   "source": [
    "n_epochs = 5\n",
    "batch_size = 1000\n",
    "n_batches_per_file = int(100000/batch_size)\n",
    "total_files_train = 30\n",
    "total_files_eval = 3"
   ]
  },
  {
   "cell_type": "code",
   "execution_count": 69,
   "id": "6ee08ed8",
   "metadata": {},
   "outputs": [],
   "source": [
    "def train_model(model,optimizer):\n",
    "    model.train()\n",
    "    epoch_loss = 0\n",
    "    for epoch in range(n_epochs):\n",
    "        epoch_loss = 0\n",
    "        for file_idx in range(total_files_train):\n",
    "            df = pd.read_csv(f'./processed_data/processed_data_{file_idx}.csv')\n",
    "            input_data = torch.FloatTensor(df[SquareData.input_features].values).to(device)\n",
    "            output_data = torch.FloatTensor(df[SquareData.output_features_dict[SQUARE]].values).to(device)\n",
    "\n",
    "            data_idx = 0\n",
    "            for batch_idx in range(n_batches_per_file):\n",
    "                input_data_batch = input_data[data_idx:(data_idx+batch_size)]\n",
    "                output_data_batch = output_data[data_idx:(data_idx+batch_size)]\n",
    "\n",
    "                optimizer.zero_grad()\n",
    "                output = model(input_data_batch)\n",
    "                loss = criterion(output,output_data_batch)\n",
    "                loss.backward()\n",
    "                optimizer.step()\n",
    "                data_idx += batch_size\n",
    "                epoch_loss += loss\n",
    "    return epoch_loss"
   ]
  },
  {
   "cell_type": "code",
   "execution_count": 70,
   "id": "43166838",
   "metadata": {},
   "outputs": [],
   "source": [
    "def get_pred_from_prob(prob):\n",
    "    max_indices = torch.argmax(prob,dim=1)\n",
    "    pred = torch.zeros(prob.shape)\n",
    "    for i in range(len(prob)):\n",
    "        pred[i,max_indices[i]] = 1\n",
    "    return pred"
   ]
  },
  {
   "cell_type": "code",
   "execution_count": 71,
   "id": "35ea9603",
   "metadata": {},
   "outputs": [],
   "source": [
    "def eval_model(model):\n",
    "    model.eval()\n",
    "    model.cpu()\n",
    "    total_correct = 0\n",
    "    y_preds = []\n",
    "    y_actuals = []\n",
    "    for file_idx in range(total_files_eval):\n",
    "        df = pd.read_csv(f'./processed_data/processed_data_{file_idx+total_files_train}.csv')\n",
    "        input_data = torch.FloatTensor(df[SquareData.input_features].values)\n",
    "        output_data = torch.FloatTensor(df[SquareData.output_features_dict[SQUARE]].values)\n",
    "        output_pred = get_pred_from_prob(model(input_data))\n",
    "        y_actuals.append(output_data)\n",
    "        y_preds.append(output_pred)\n",
    "    y_actual = torch.vstack(y_actuals)\n",
    "    y_pred = torch.vstack(y_preds)\n",
    "    model.to(device)\n",
    "    return metric(y_pred,y_actual)"
   ]
  },
  {
   "cell_type": "code",
   "execution_count": 72,
   "id": "3f0fb7f5",
   "metadata": {
    "scrolled": true
   },
   "outputs": [],
   "source": [
    "def objective(trial):\n",
    "    start = time.time()\n",
    "    n_layers = trial.suggest_int('n_layers', 1, 3)\n",
    "    param_list = [str(n_layers)]\n",
    "    layers = []\n",
    "    in_features = 64 * 2\n",
    "    for i in range(n_layers):\n",
    "        out_features = trial.suggest_int(f'layer_{i}_size', 4, 2048)\n",
    "        param_list.append(str(out_features))\n",
    "        layers.append(nn.Linear(in_features, out_features))\n",
    "        layers.append(nn.ReLU())\n",
    "        in_features = out_features\n",
    "    layers.append(nn.Linear(in_features, SquareData.square_total_occupants[SQUARE]))\n",
    "    layers.append(nn.Softmax(dim=1))\n",
    "    model = torch.nn.Sequential(*layers).to(torch.device(device))\n",
    "    optimizer = optim.SGD(model.parameters(), lr=0.01, momentum=0.9)\n",
    "    print('training model')\n",
    "    last_epoch_training_loss = train_model(model,optimizer)\n",
    "    print('evaluating model')\n",
    "    accuracy = eval_model(model)\n",
    "    param_string = ','.join(param_list)\n",
    "    print(f'params: {param_string}, last epoch training loss: {last_epoch_training_loss:.4f}, test metric: {accuracy:.4f}, duration: {(time.time()-start):.4f}')\n",
    "    return accuracy"
   ]
  },
  {
   "cell_type": "code",
   "execution_count": null,
   "id": "e2995490",
   "metadata": {},
   "outputs": [
    {
     "name": "stderr",
     "output_type": "stream",
     "text": [
      "\u001b[32m[I 2023-02-03 13:48:14,595]\u001b[0m A new study created in memory with name: no-name-2eb92e94-3c3b-47ab-8250-fb594d441697\u001b[0m\n"
     ]
    },
    {
     "name": "stdout",
     "output_type": "stream",
     "text": [
      "training model\n",
      "evaluating model\n"
     ]
    },
    {
     "name": "stderr",
     "output_type": "stream",
     "text": [
      "\u001b[32m[I 2023-02-03 14:01:50,491]\u001b[0m Trial 0 finished with value: 0.9475399851799011 and parameters: {'n_layers': 3, 'layer_0_size': 684, 'layer_1_size': 32, 'layer_2_size': 1138}. Best is trial 0 with value: 0.9475399851799011.\u001b[0m\n"
     ]
    },
    {
     "name": "stdout",
     "output_type": "stream",
     "text": [
      "params: 3,684,32,1138, last epoch training loss: 11164.0811, test metric: 0.9475, duration: 815.7416\n",
      "training model\n",
      "evaluating model\n"
     ]
    },
    {
     "name": "stderr",
     "output_type": "stream",
     "text": [
      "\u001b[32m[I 2023-02-03 14:17:03,552]\u001b[0m Trial 1 finished with value: 0.9475399851799011 and parameters: {'n_layers': 2, 'layer_0_size': 2026, 'layer_1_size': 491}. Best is trial 0 with value: 0.9475399851799011.\u001b[0m\n"
     ]
    },
    {
     "name": "stdout",
     "output_type": "stream",
     "text": [
      "params: 2,2026,491, last epoch training loss: 11164.0967, test metric: 0.9475, duration: 912.8985\n",
      "training model\n"
     ]
    }
   ],
   "source": [
    "criterion = nn.CrossEntropyLoss()\n",
    "metric = torchmetrics.F1Score(task='multiclass',num_classes=13)\n",
    "study = optuna.create_study(direction='maximize')\n",
    "study.optimize(objective, n_trials=50)"
   ]
  },
  {
   "cell_type": "code",
   "execution_count": 42,
   "id": "832f99c1",
   "metadata": {},
   "outputs": [
    {
     "ename": "NameError",
     "evalue": "name 'model' is not defined",
     "output_type": "error",
     "traceback": [
      "\u001b[1;31m---------------------------------------------------------------------------\u001b[0m",
      "\u001b[1;31mNameError\u001b[0m                                 Traceback (most recent call last)",
      "Cell \u001b[1;32mIn[42], line 1\u001b[0m\n\u001b[1;32m----> 1\u001b[0m \u001b[43mmodel\u001b[49m\n",
      "\u001b[1;31mNameError\u001b[0m: name 'model' is not defined"
     ]
    }
   ],
   "source": [
    "model"
   ]
  },
  {
   "cell_type": "code",
   "execution_count": 20,
   "id": "81ce137a",
   "metadata": {},
   "outputs": [
    {
     "data": {
      "text/plain": [
       "MulticlassF1Score()"
      ]
     },
     "execution_count": 20,
     "metadata": {},
     "output_type": "execute_result"
    }
   ],
   "source": [
    "metric.to(device)"
   ]
  },
  {
   "cell_type": "code",
   "execution_count": 21,
   "id": "bbfdd8b2",
   "metadata": {},
   "outputs": [
    {
     "data": {
      "text/plain": [
       "device(type='cuda', index=0)"
      ]
     },
     "execution_count": 21,
     "metadata": {},
     "output_type": "execute_result"
    }
   ],
   "source": [
    "metric.device"
   ]
  },
  {
   "cell_type": "code",
   "execution_count": 11,
   "id": "548002d9",
   "metadata": {},
   "outputs": [],
   "source": [
    "input_data_batch = input_data[0:(0+batch_size)]\n",
    "output_data_batch = output_data[0:(0+batch_size)]"
   ]
  },
  {
   "cell_type": "code",
   "execution_count": null,
   "id": "8754e4d1",
   "metadata": {},
   "outputs": [],
   "source": []
  },
  {
   "cell_type": "code",
   "execution_count": 12,
   "id": "8d8581c3",
   "metadata": {},
   "outputs": [],
   "source": [
    "testout = model(input_data_batch)"
   ]
  },
  {
   "cell_type": "code",
   "execution_count": 16,
   "id": "f7e5c7e3",
   "metadata": {},
   "outputs": [
    {
     "data": {
      "text/plain": [
       "tensor([0.0772, 0.0787, 0.0779, 0.0777, 0.0763, 0.0790, 0.0780, 0.0739, 0.0750,\n",
       "        0.0795, 0.0770, 0.0755, 0.0744], device='cuda:0',\n",
       "       grad_fn=<SelectBackward0>)"
      ]
     },
     "execution_count": 16,
     "metadata": {},
     "output_type": "execute_result"
    }
   ],
   "source": [
    "testout[0]"
   ]
  },
  {
   "cell_type": "code",
   "execution_count": 18,
   "id": "3a3b889e",
   "metadata": {},
   "outputs": [],
   "source": [
    "solutions = torch.argmax(testout,dim=1)"
   ]
  },
  {
   "cell_type": "code",
   "execution_count": 20,
   "id": "06b66c8f",
   "metadata": {},
   "outputs": [],
   "source": [
    "correct = solutions == torch.argmax(output_data_batch,dim=1)"
   ]
  },
  {
   "cell_type": "code",
   "execution_count": 21,
   "id": "7ce469ce",
   "metadata": {},
   "outputs": [
    {
     "data": {
      "text/plain": [
       "tensor(4, device='cuda:0')"
      ]
     },
     "execution_count": 21,
     "metadata": {},
     "output_type": "execute_result"
    }
   ],
   "source": [
    "sum(correct)"
   ]
  },
  {
   "cell_type": "code",
   "execution_count": 30,
   "id": "027ffdbd",
   "metadata": {},
   "outputs": [
    {
     "data": {
      "text/plain": [
       "{'a1': 'x',\n",
       " 'a2': 'wp',\n",
       " 'a3': 'x',\n",
       " 'a4': 'x',\n",
       " 'a5': 'x',\n",
       " 'a6': 'x',\n",
       " 'a7': 'bp',\n",
       " 'a8': 'x',\n",
       " 'b1': 'x',\n",
       " 'b2': 'wp',\n",
       " 'b3': 'x',\n",
       " 'b4': 'x',\n",
       " 'b5': 'x',\n",
       " 'b6': 'x',\n",
       " 'b7': 'x',\n",
       " 'b8': 'x',\n",
       " 'c1': 'x',\n",
       " 'c2': 'x',\n",
       " 'c3': 'x',\n",
       " 'c4': 'x',\n",
       " 'c5': 'x',\n",
       " 'c6': 'x',\n",
       " 'c7': 'x',\n",
       " 'c8': 'x',\n",
       " 'd1': 'x',\n",
       " 'd2': 'x',\n",
       " 'd3': 'x',\n",
       " 'd4': 'x',\n",
       " 'd5': 'x',\n",
       " 'd6': 'x',\n",
       " 'd7': 'x',\n",
       " 'd8': 'x',\n",
       " 'e1': 'x',\n",
       " 'e2': 'x',\n",
       " 'e3': 'x',\n",
       " 'e4': 'x',\n",
       " 'e5': 'x',\n",
       " 'e6': 'x',\n",
       " 'e7': 'x',\n",
       " 'e8': 'x',\n",
       " 'f1': 'x',\n",
       " 'f2': 'wp',\n",
       " 'f3': 'x',\n",
       " 'f4': 'x',\n",
       " 'f5': 'x',\n",
       " 'f6': 'x',\n",
       " 'f7': 'bp',\n",
       " 'f8': 'x',\n",
       " 'g1': 'x',\n",
       " 'g2': 'wp',\n",
       " 'g3': 'x',\n",
       " 'g4': 'x',\n",
       " 'g5': 'x',\n",
       " 'g6': 'x',\n",
       " 'g7': 'bp',\n",
       " 'g8': 'x',\n",
       " 'h1': 'x',\n",
       " 'h2': 'wp',\n",
       " 'h3': 'x',\n",
       " 'h4': 'x',\n",
       " 'h5': 'x',\n",
       " 'h6': 'x',\n",
       " 'h7': 'bp',\n",
       " 'h8': 'x'}"
      ]
     },
     "execution_count": 30,
     "metadata": {},
     "output_type": "execute_result"
    }
   ],
   "source": [
    "PoorEyesightPredictBoardState(testout[0])"
   ]
  },
  {
   "cell_type": "code",
   "execution_count": 31,
   "id": "2eee981f",
   "metadata": {},
   "outputs": [
    {
     "data": {
      "text/plain": [
       "{'a1': 'x',\n",
       " 'a2': 'wp',\n",
       " 'a3': 'x',\n",
       " 'a4': 'x',\n",
       " 'a5': 'x',\n",
       " 'a6': 'x',\n",
       " 'a7': 'bp',\n",
       " 'a8': 'x',\n",
       " 'b1': 'x',\n",
       " 'b2': 'wp',\n",
       " 'b3': 'x',\n",
       " 'b4': 'x',\n",
       " 'b5': 'x',\n",
       " 'b6': 'bp',\n",
       " 'b7': 'x',\n",
       " 'b8': 'x',\n",
       " 'c1': 'x',\n",
       " 'c2': 'wp',\n",
       " 'c3': 'x',\n",
       " 'c4': 'x',\n",
       " 'c5': 'bp',\n",
       " 'c6': 'x',\n",
       " 'c7': 'x',\n",
       " 'c8': 'x',\n",
       " 'd1': 'wr',\n",
       " 'd2': 'x',\n",
       " 'd3': 'wr',\n",
       " 'd4': 'bp',\n",
       " 'd5': 'x',\n",
       " 'd6': 'x',\n",
       " 'd7': 'x',\n",
       " 'd8': 'br',\n",
       " 'e1': 'x',\n",
       " 'e2': 'x',\n",
       " 'e3': 'wb',\n",
       " 'e4': 'bq',\n",
       " 'e5': 'x',\n",
       " 'e6': 'x',\n",
       " 'e7': 'x',\n",
       " 'e8': 'br',\n",
       " 'f1': 'wk',\n",
       " 'f2': 'wp',\n",
       " 'f3': 'x',\n",
       " 'f4': 'x',\n",
       " 'f5': 'x',\n",
       " 'f6': 'x',\n",
       " 'f7': 'x',\n",
       " 'f8': 'x',\n",
       " 'g1': 'x',\n",
       " 'g2': 'wp',\n",
       " 'g3': 'wq',\n",
       " 'g4': 'x',\n",
       " 'g5': 'x',\n",
       " 'g6': 'bp',\n",
       " 'g7': 'bb',\n",
       " 'g8': 'x',\n",
       " 'h1': 'x',\n",
       " 'h2': 'wp',\n",
       " 'h3': 'x',\n",
       " 'h4': 'x',\n",
       " 'h5': 'x',\n",
       " 'h6': 'x',\n",
       " 'h7': 'bk',\n",
       " 'h8': 'x'}"
      ]
     },
     "execution_count": 31,
     "metadata": {},
     "output_type": "execute_result"
    }
   ],
   "source": [
    "PoorEyesightPredictBoardState(output_data_batch[0])"
   ]
  },
  {
   "cell_type": "code",
   "execution_count": 20,
   "id": "8f8b85be",
   "metadata": {},
   "outputs": [
    {
     "data": {
      "text/plain": [
       "tensor([[1.2496e-09, 9.5996e-10, 1.2459e-09,  ..., 2.3640e-09, 5.0241e-09,\n",
       "         1.0000e+00],\n",
       "        [2.0145e-07, 1.3505e-07, 1.9613e-07,  ..., 1.1117e-08, 1.4129e-08,\n",
       "         1.0000e+00],\n",
       "        [2.2429e-08, 1.2148e-08, 1.2452e-08,  ..., 7.9614e-09, 1.8573e-08,\n",
       "         1.0000e+00],\n",
       "        ...,\n",
       "        [1.2445e-09, 8.8979e-10, 1.1421e-09,  ..., 2.4875e-09, 4.5412e-09,\n",
       "         1.0000e+00],\n",
       "        [1.3085e-08, 7.4193e-09, 6.4804e-09,  ..., 6.3021e-09, 1.0924e-08,\n",
       "         1.0000e+00],\n",
       "        [6.4931e-08, 6.5663e-08, 9.1911e-08,  ..., 4.0254e-09, 5.7009e-09,\n",
       "         1.0000e+00]], device='cuda:0', grad_fn=<CatBackward0>)"
      ]
     },
     "execution_count": 20,
     "metadata": {},
     "output_type": "execute_result"
    }
   ],
   "source": [
    "testout"
   ]
  },
  {
   "cell_type": "code",
   "execution_count": 24,
   "id": "f14615e5",
   "metadata": {},
   "outputs": [
    {
     "data": {
      "text/plain": [
       "torch.Size([1000, 800])"
      ]
     },
     "execution_count": 24,
     "metadata": {},
     "output_type": "execute_result"
    }
   ],
   "source": [
    "testout.shape"
   ]
  },
  {
   "cell_type": "code",
   "execution_count": null,
   "id": "f1020561",
   "metadata": {},
   "outputs": [],
   "source": [
    "{'a1': 'x','a2': 'wp','a3': 'x','a4': 'x','a5': 'x','a6': 'x','a7': 'bp','a8': 'x',\n",
    " 'b1': 'x','b2': 'wp','b3': 'x','b4': 'x','b5': 'x','b6': 'bp','b7': 'x','b8': 'x',\n",
    " 'c1': 'x','c2': 'wp','c3': 'x','c4': 'x','c5': 'bp','c6': 'x','c7': 'x','c8': 'x',\n",
    " 'd1': 'wr','d2': 'x','d3': 'wr','d4': 'bp','d5': 'x','d6': 'x','d7': 'x','d8': 'br',\n",
    " 'e1': 'x','e2': 'x','e3': 'wb','e4': 'bq','e5': 'x','e6': 'x','e7': 'x','e8': 'br',\n",
    " 'f1': 'wk','f2': 'wp','f3': 'x','f4': 'x','f5': 'x','f6': 'x','f7': 'x','f8': 'x',\n",
    " 'g1': 'x','g2': 'wp','g3': 'wq','g4': 'x','g5': 'x','g6': 'bp','g7': 'bb','g8': 'x',\n",
    " 'h1': 'x','h2': 'wp','h3': 'x','h4': 'x','h5': 'x','h6': 'x','h7': 'bk','h8': 'x'}\n",
    "\n",
    "{'a1': 'x','a2': 'wp','a3': 'x','a4': 'x','a5': 'x','a6': 'x','a7': 'bp','a8': 'x',\n",
    " 'b1': 'x','b2': 'wp','b3': 'x','b4': 'x','b5': 'x','b6': 'x','b7': 'x','b8': 'x',\n",
    " 'c1': 'x','c2': 'x','c3': 'x','c4': 'x','c5': 'x','c6': 'x','c7': 'x','c8': 'x',\n",
    " 'd1': 'x','d2': 'x','d3': 'x','d4': 'x','d5': 'x','d6': 'x','d7': 'x','d8': 'x',\n",
    " 'e1': 'x','e2': 'x','e3': 'x','e4': 'x','e5': 'x','e6': 'x','e7': 'x','e8': 'x',\n",
    " 'f1': 'x','f2': 'wp','f3': 'x','f4': 'x','f5': 'x','f6': 'x','f7': 'bp','f8': 'x',\n",
    " 'g1': 'x','g2': 'wp','g3': 'x','g4': 'x','g5': 'x','g6': 'x','g7': 'bp','g8': 'x',\n",
    " 'h1': 'x','h2': 'wp','h3': 'x','h4': 'x','h5': 'x','h6': 'x','h7': 'bp','h8': 'x'}"
   ]
  },
  {
   "cell_type": "code",
   "execution_count": 8,
   "id": "9a468cb8",
   "metadata": {},
   "outputs": [
    {
     "data": {
      "text/plain": [
       "PoorEyesightSquareModel(\n",
       "  (layer1): Linear(in_features=128, out_features=1024, bias=True)\n",
       "  (layer2): Linear(in_features=1024, out_features=4096, bias=True)\n",
       "  (layer3): Linear(in_features=4096, out_features=512, bias=True)\n",
       "  (output_layer): Linear(in_features=512, out_features=13, bias=True)\n",
       "  (nonlinearity): ReLU()\n",
       ")"
      ]
     },
     "execution_count": 8,
     "metadata": {},
     "output_type": "execute_result"
    }
   ],
   "source": [
    "model"
   ]
  },
  {
   "cell_type": "code",
   "execution_count": 23,
   "id": "bf200624",
   "metadata": {},
   "outputs": [],
   "source": [
    "a = torch.randn(16, 4)"
   ]
  },
  {
   "cell_type": "code",
   "execution_count": 27,
   "id": "a04fe0ba",
   "metadata": {},
   "outputs": [],
   "source": [
    "max_indices = torch.argmax(a,dim=1)"
   ]
  },
  {
   "cell_type": "code",
   "execution_count": 32,
   "id": "e3fdf007",
   "metadata": {},
   "outputs": [
    {
     "data": {
      "text/plain": [
       "tensor([1, 2, 1, 3, 0, 2, 3, 0, 3, 0, 0, 0, 2, 0, 2, 3])"
      ]
     },
     "execution_count": 32,
     "metadata": {},
     "output_type": "execute_result"
    }
   ],
   "source": [
    "max_indices"
   ]
  },
  {
   "cell_type": "code",
   "execution_count": 31,
   "id": "efd02b4c",
   "metadata": {},
   "outputs": [],
   "source": [
    "b = torch.zeros(16,4)"
   ]
  },
  {
   "cell_type": "code",
   "execution_count": 33,
   "id": "c31d6ae5",
   "metadata": {},
   "outputs": [],
   "source": [
    "for i in range(len(a)):\n",
    "    b[i,max_indices[i]] = 1"
   ]
  },
  {
   "cell_type": "code",
   "execution_count": 34,
   "id": "11f47d11",
   "metadata": {},
   "outputs": [
    {
     "data": {
      "text/plain": [
       "tensor([[0., 1., 0., 0.],\n",
       "        [0., 0., 1., 0.],\n",
       "        [0., 1., 0., 0.],\n",
       "        [0., 0., 0., 1.],\n",
       "        [1., 0., 0., 0.],\n",
       "        [0., 0., 1., 0.],\n",
       "        [0., 0., 0., 1.],\n",
       "        [1., 0., 0., 0.],\n",
       "        [0., 0., 0., 1.],\n",
       "        [1., 0., 0., 0.],\n",
       "        [1., 0., 0., 0.],\n",
       "        [1., 0., 0., 0.],\n",
       "        [0., 0., 1., 0.],\n",
       "        [1., 0., 0., 0.],\n",
       "        [0., 0., 1., 0.],\n",
       "        [0., 0., 0., 1.]])"
      ]
     },
     "execution_count": 34,
     "metadata": {},
     "output_type": "execute_result"
    }
   ],
   "source": [
    "b"
   ]
  },
  {
   "cell_type": "code",
   "execution_count": 36,
   "id": "7eca28e3",
   "metadata": {},
   "outputs": [
    {
     "data": {
      "text/plain": [
       "tensor([[0., 0., 0., 0.],\n",
       "        [0., 0., 0., 0.],\n",
       "        [0., 0., 0., 0.],\n",
       "        [0., 0., 0., 0.],\n",
       "        [0., 0., 0., 0.],\n",
       "        [0., 0., 0., 0.],\n",
       "        [0., 0., 0., 0.],\n",
       "        [0., 0., 0., 0.],\n",
       "        [0., 0., 0., 0.],\n",
       "        [0., 0., 0., 0.],\n",
       "        [0., 0., 0., 0.],\n",
       "        [0., 0., 0., 0.],\n",
       "        [0., 0., 0., 0.],\n",
       "        [0., 0., 0., 0.],\n",
       "        [0., 0., 0., 0.],\n",
       "        [0., 0., 0., 0.]])"
      ]
     },
     "execution_count": 36,
     "metadata": {},
     "output_type": "execute_result"
    }
   ],
   "source": [
    "torch.zeros(a.shape)"
   ]
  },
  {
   "cell_type": "code",
   "execution_count": null,
   "id": "fdbc606f",
   "metadata": {},
   "outputs": [],
   "source": []
  }
 ],
 "metadata": {
  "kernelspec": {
   "display_name": "Python 3 (ipykernel)",
   "language": "python",
   "name": "python3"
  },
  "language_info": {
   "codemirror_mode": {
    "name": "ipython",
    "version": 3
   },
   "file_extension": ".py",
   "mimetype": "text/x-python",
   "name": "python",
   "nbconvert_exporter": "python",
   "pygments_lexer": "ipython3",
   "version": "3.10.4"
  }
 },
 "nbformat": 4,
 "nbformat_minor": 5
}
