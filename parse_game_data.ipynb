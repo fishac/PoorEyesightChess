{
 "cells": [
  {
   "cell_type": "code",
   "execution_count": 3,
   "id": "ccfec1e6",
   "metadata": {},
   "outputs": [],
   "source": [
    "import chess\n",
    "import chess.pgn\n",
    "import pandas as pd\n",
    "import itertools"
   ]
  },
  {
   "cell_type": "code",
   "execution_count": 4,
   "id": "8e77dee3",
   "metadata": {
    "scrolled": true
   },
   "outputs": [
    {
     "name": "stdout",
     "output_type": "stream",
     "text": [
      "['a1', 'a2', 'a3', 'a4', 'a5', 'a6', 'a7', 'a8', 'b1', 'b2', 'b3', 'b4', 'b5', 'b6', 'b7', 'b8', 'c1', 'c2', 'c3', 'c4', 'c5', 'c6', 'c7', 'c8', 'd1', 'd2', 'd3', 'd4', 'd5', 'd6', 'd7', 'd8', 'e1', 'e2', 'e3', 'e4', 'e5', 'e6', 'e7', 'e8', 'f1', 'f2', 'f3', 'f4', 'f5', 'f6', 'f7', 'f8', 'g1', 'g2', 'g3', 'g4', 'g5', 'g6', 'g7', 'g8', 'h1', 'h2', 'h3', 'h4', 'h5', 'h6', 'h7', 'h8']\n"
     ]
    }
   ],
   "source": [
    "# Set up square data.\n",
    "files = ['a', 'b', 'c', 'd', 'e', 'f', 'g', 'h']\n",
    "ranks = ['1', '2', '3', '4', '5', '6', '7', '8']\n",
    "squares = [''.join(s) for s in itertools.product(*[files,ranks])]\n",
    "print(squares)"
   ]
  },
  {
   "cell_type": "code",
   "execution_count": null,
   "id": "1ce1c081",
   "metadata": {},
   "outputs": [],
   "source": []
  },
  {
   "cell_type": "code",
   "execution_count": 56,
   "id": "5c3acb09",
   "metadata": {},
   "outputs": [],
   "source": [
    "# Set up occupants keys. \n",
    "# All of the pieces of each color, plus an empty disignation.\n",
    "occupants = ['wr', 'wn', 'wb', 'wq', 'wk', 'wp', 'br', 'bn', 'bb', 'bq', 'bk', 'bp', 'x']"
   ]
  },
  {
   "cell_type": "code",
   "execution_count": 6,
   "id": "56016bf6",
   "metadata": {},
   "outputs": [],
   "source": [
    "# Location of downloaded pgn database file.\n",
    "database_filename = 'C:/Users/alexpc2red/Documents/lichessgames/lichess_db_standard_rated_2016-03.pgn'"
   ]
  },
  {
   "cell_type": "code",
   "execution_count": 37,
   "id": "27ee9bc0",
   "metadata": {},
   "outputs": [],
   "source": [
    "# Define a conversion from library color notation to ours.\n",
    "def parse_piece_color(piece):\n",
    "    if piece.color is None:\n",
    "        return None\n",
    "    elif piece.color:\n",
    "        return 'w'\n",
    "    else:\n",
    "        return 'b'"
   ]
  },
  {
   "cell_type": "code",
   "execution_count": 115,
   "id": "357c8c50",
   "metadata": {},
   "outputs": [],
   "source": [
    "# Determine if board state has not been seen yet.\n",
    "# Return -1 if new board state, otherwise return index of seen board\n",
    "def index_of_board_state(board_states, board_state_new):\n",
    "    try: \n",
    "        return board_states.index(board_state_new)\n",
    "    except ValueError:\n",
    "        return -1"
   ]
  },
  {
   "cell_type": "code",
   "execution_count": 72,
   "id": "2d278259",
   "metadata": {},
   "outputs": [],
   "source": [
    "# Create new board state object representing empty board.\n",
    "def generate_empty_board_state():\n",
    "    board_state = {}\n",
    "    for square in squares:\n",
    "        board_state[square] = 'x'\n",
    "        board_state[square + '_occupant'] = 'x'\n",
    "    return board_state"
   ]
  },
  {
   "cell_type": "code",
   "execution_count": 59,
   "id": "2696ad6b",
   "metadata": {},
   "outputs": [],
   "source": [
    "def parse_board_state(board):\n",
    "    # Open database file.\n",
    "    board_state =  generate_empty_board_state()\n",
    "    for square in squares:\n",
    "        board_state[square] = 'x'\n",
    "        board_state[square + '_occupant'] = 'x'\n",
    "        piece = board.piece_at(chess.parse_square(square))\n",
    "        if piece is not None:\n",
    "            color = parse_piece_color(piece)\n",
    "            piece_char = piece.symbol().lower()\n",
    "            occupant = color + piece_char\n",
    "            board_state[square] = color\n",
    "            board_state[square + '_occupant'] = occupant\n",
    "    return board_state"
   ]
  },
  {
   "cell_type": "code",
   "execution_count": 119,
   "id": "94cfb71c",
   "metadata": {},
   "outputs": [],
   "source": [
    "def parse_all_unique_board_states(max_games=-1):\n",
    "    board_states = []\n",
    "    counts = []\n",
    "    total_games = 0\n",
    "    pgn = open(database_filename)\n",
    "    while True:\n",
    "        if total_games > max_games and max_games > 0:\n",
    "            break\n",
    "        game = chess.pgn.read_game(pgn)\n",
    "        print(len(list(game.mainline_moves())))\n",
    "        if game is None:\n",
    "            break\n",
    "        board = game.board()\n",
    "        board_state = parse_board_state(board)\n",
    "        idx = index_of_board_state(board_states,board)\n",
    "        if idx == -1:\n",
    "            board_states.append(board_state)\n",
    "            counts.append(1)\n",
    "        else:\n",
    "            counts[idx] += 1\n",
    "        if board_state not in board_states:\n",
    "            board_states.append(board_state)\n",
    "        for move in game.mainline_moves():\n",
    "            board.push(move)\n",
    "            board_state = parse_board_state(board)\n",
    "            idx = index_of_board_state(board_states,board)\n",
    "            if idx == -1:\n",
    "                board_states.append(board_state)\n",
    "                counts.append(1)\n",
    "            else:\n",
    "                counts[idx] += 1\n",
    "            if board_state not in board_states:\n",
    "                board_states.append(board_state)\n",
    "        total_games += 1 \n",
    "    return board_states,counts"
   ]
  },
  {
   "cell_type": "code",
   "execution_count": 120,
   "id": "a1b9ee95",
   "metadata": {
    "scrolled": true
   },
   "outputs": [
    {
     "name": "stdout",
     "output_type": "stream",
     "text": [
      "0\n",
      "77\n",
      "55\n",
      "54\n",
      "92\n",
      "119\n",
      "total board_states: 403\n",
      "total counts: 403\n"
     ]
    }
   ],
   "source": [
    "board_states,counts = parse_all_unique_board_states(5)\n",
    "print(f'total board_states: {len(board_states)}')\n",
    "print(f'total counts: {len(counts)}')"
   ]
  },
  {
   "cell_type": "code",
   "execution_count": 121,
   "id": "5f8b3231",
   "metadata": {},
   "outputs": [
    {
     "data": {
      "text/plain": [
       "True"
      ]
     },
     "execution_count": 121,
     "metadata": {},
     "output_type": "execute_result"
    }
   ],
   "source": [
    "board_states[0] == board_states[1]"
   ]
  },
  {
   "cell_type": "code",
   "execution_count": 105,
   "id": "d69d08f0",
   "metadata": {},
   "outputs": [
    {
     "name": "stdout",
     "output_type": "stream",
     "text": [
      "403\n",
      "403\n",
      "1\n"
     ]
    }
   ],
   "source": []
  },
  {
   "cell_type": "code",
   "execution_count": 101,
   "id": "e581b05d",
   "metadata": {},
   "outputs": [
    {
     "data": {
      "text/plain": [
       "False"
      ]
     },
     "execution_count": 101,
     "metadata": {},
     "output_type": "execute_result"
    }
   ],
   "source": [
    "board_states[0] == board_states[2]"
   ]
  },
  {
   "cell_type": "code",
   "execution_count": 87,
   "id": "14c31ac2",
   "metadata": {},
   "outputs": [
    {
     "name": "stdout",
     "output_type": "stream",
     "text": [
      "403\n"
     ]
    }
   ],
   "source": [
    "print(len(board_states))"
   ]
  },
  {
   "cell_type": "code",
   "execution_count": 92,
   "id": "498b4e62",
   "metadata": {
    "scrolled": true
   },
   "outputs": [
    {
     "data": {
      "text/plain": [
       "403"
      ]
     },
     "execution_count": 92,
     "metadata": {},
     "output_type": "execute_result"
    }
   ],
   "source": [
    "len(counts)"
   ]
  },
  {
   "cell_type": "code",
   "execution_count": null,
   "id": "10659c7a",
   "metadata": {},
   "outputs": [],
   "source": [
    "board_states[1]"
   ]
  },
  {
   "cell_type": "code",
   "execution_count": 89,
   "id": "db838319",
   "metadata": {},
   "outputs": [
    {
     "name": "stdout",
     "output_type": "stream",
     "text": [
      "{'a1': 'w', 'a1_occupant': 'wr', 'a2': 'w', 'a2_occupant': 'wp', 'a3': 'x', 'a3_occupant': 'x', 'a4': 'x', 'a4_occupant': 'x', 'a5': 'x', 'a5_occupant': 'x', 'a6': 'x', 'a6_occupant': 'x', 'a7': 'b', 'a7_occupant': 'bp', 'a8': 'b', 'a8_occupant': 'br', 'b1': 'w', 'b1_occupant': 'wn', 'b2': 'w', 'b2_occupant': 'wp', 'b3': 'x', 'b3_occupant': 'x', 'b4': 'x', 'b4_occupant': 'x', 'b5': 'x', 'b5_occupant': 'x', 'b6': 'x', 'b6_occupant': 'x', 'b7': 'b', 'b7_occupant': 'bp', 'b8': 'b', 'b8_occupant': 'bn', 'c1': 'w', 'c1_occupant': 'wb', 'c2': 'w', 'c2_occupant': 'wp', 'c3': 'x', 'c3_occupant': 'x', 'c4': 'x', 'c4_occupant': 'x', 'c5': 'x', 'c5_occupant': 'x', 'c6': 'x', 'c6_occupant': 'x', 'c7': 'b', 'c7_occupant': 'bp', 'c8': 'b', 'c8_occupant': 'bb', 'd1': 'w', 'd1_occupant': 'wq', 'd2': 'x', 'd2_occupant': 'x', 'd3': 'w', 'd3_occupant': 'wp', 'd4': 'x', 'd4_occupant': 'x', 'd5': 'b', 'd5_occupant': 'bp', 'd6': 'x', 'd6_occupant': 'x', 'd7': 'x', 'd7_occupant': 'x', 'd8': 'b', 'd8_occupant': 'bq', 'e1': 'w', 'e1_occupant': 'wk', 'e2': 'x', 'e2_occupant': 'x', 'e3': 'x', 'e3_occupant': 'x', 'e4': 'w', 'e4_occupant': 'wp', 'e5': 'x', 'e5_occupant': 'x', 'e6': 'b', 'e6_occupant': 'bp', 'e7': 'x', 'e7_occupant': 'x', 'e8': 'b', 'e8_occupant': 'bk', 'f1': 'w', 'f1_occupant': 'wb', 'f2': 'w', 'f2_occupant': 'wp', 'f3': 'x', 'f3_occupant': 'x', 'f4': 'x', 'f4_occupant': 'x', 'f5': 'x', 'f5_occupant': 'x', 'f6': 'x', 'f6_occupant': 'x', 'f7': 'b', 'f7_occupant': 'bp', 'f8': 'b', 'f8_occupant': 'bb', 'g1': 'w', 'g1_occupant': 'wn', 'g2': 'w', 'g2_occupant': 'wp', 'g3': 'x', 'g3_occupant': 'x', 'g4': 'x', 'g4_occupant': 'x', 'g5': 'x', 'g5_occupant': 'x', 'g6': 'x', 'g6_occupant': 'x', 'g7': 'b', 'g7_occupant': 'bp', 'g8': 'b', 'g8_occupant': 'bn', 'h1': 'w', 'h1_occupant': 'wr', 'h2': 'w', 'h2_occupant': 'wp', 'h3': 'x', 'h3_occupant': 'x', 'h4': 'x', 'h4_occupant': 'x', 'h5': 'x', 'h5_occupant': 'x', 'h6': 'x', 'h6_occupant': 'x', 'h7': 'b', 'h7_occupant': 'bp', 'h8': 'b', 'h8_occupant': 'br'}\n"
     ]
    }
   ],
   "source": [
    "print(board_states[5])"
   ]
  },
  {
   "cell_type": "code",
   "execution_count": 82,
   "id": "61e43984",
   "metadata": {},
   "outputs": [
    {
     "name": "stdout",
     "output_type": "stream",
     "text": [
      "{'a1': 'w', 'a1_occupant': 'wr', 'a2': 'w', 'a2_occupant': 'wp', 'a3': 'x', 'a3_occupant': 'x', 'a4': 'x', 'a4_occupant': 'x', 'a5': 'x', 'a5_occupant': 'x', 'a6': 'x', 'a6_occupant': 'x', 'a7': 'b', 'a7_occupant': 'bp', 'a8': 'b', 'a8_occupant': 'br', 'b1': 'w', 'b1_occupant': 'wn', 'b2': 'w', 'b2_occupant': 'wp', 'b3': 'x', 'b3_occupant': 'x', 'b4': 'x', 'b4_occupant': 'x', 'b5': 'x', 'b5_occupant': 'x', 'b6': 'x', 'b6_occupant': 'x', 'b7': 'b', 'b7_occupant': 'bp', 'b8': 'b', 'b8_occupant': 'bn', 'c1': 'w', 'c1_occupant': 'wb', 'c2': 'w', 'c2_occupant': 'wp', 'c3': 'x', 'c3_occupant': 'x', 'c4': 'x', 'c4_occupant': 'x', 'c5': 'x', 'c5_occupant': 'x', 'c6': 'x', 'c6_occupant': 'x', 'c7': 'b', 'c7_occupant': 'bp', 'c8': 'b', 'c8_occupant': 'bb', 'd1': 'w', 'd1_occupant': 'wq', 'd2': 'w', 'd2_occupant': 'wp', 'd3': 'x', 'd3_occupant': 'x', 'd4': 'x', 'd4_occupant': 'x', 'd5': 'x', 'd5_occupant': 'x', 'd6': 'x', 'd6_occupant': 'x', 'd7': 'b', 'd7_occupant': 'bp', 'd8': 'b', 'd8_occupant': 'bq', 'e1': 'w', 'e1_occupant': 'wk', 'e2': 'w', 'e2_occupant': 'wp', 'e3': 'x', 'e3_occupant': 'x', 'e4': 'x', 'e4_occupant': 'x', 'e5': 'x', 'e5_occupant': 'x', 'e6': 'x', 'e6_occupant': 'x', 'e7': 'b', 'e7_occupant': 'bp', 'e8': 'b', 'e8_occupant': 'bk', 'f1': 'w', 'f1_occupant': 'wb', 'f2': 'w', 'f2_occupant': 'wp', 'f3': 'x', 'f3_occupant': 'x', 'f4': 'x', 'f4_occupant': 'x', 'f5': 'x', 'f5_occupant': 'x', 'f6': 'x', 'f6_occupant': 'x', 'f7': 'b', 'f7_occupant': 'bp', 'f8': 'b', 'f8_occupant': 'bb', 'g1': 'w', 'g1_occupant': 'wn', 'g2': 'w', 'g2_occupant': 'wp', 'g3': 'x', 'g3_occupant': 'x', 'g4': 'x', 'g4_occupant': 'x', 'g5': 'x', 'g5_occupant': 'x', 'g6': 'x', 'g6_occupant': 'x', 'g7': 'b', 'g7_occupant': 'bp', 'g8': 'b', 'g8_occupant': 'bn', 'h1': 'w', 'h1_occupant': 'wr', 'h2': 'w', 'h2_occupant': 'wp', 'h3': 'x', 'h3_occupant': 'x', 'h4': 'x', 'h4_occupant': 'x', 'h5': 'x', 'h5_occupant': 'x', 'h6': 'x', 'h6_occupant': 'x', 'h7': 'b', 'h7_occupant': 'bp', 'h8': 'b', 'h8_occupant': 'br'}\n",
      "4696\n"
     ]
    }
   ],
   "source": [
    "bs = parse_board_state(board)\n",
    "print(bs)\n",
    "print(sys.getsizeof(bs))"
   ]
  },
  {
   "cell_type": "code",
   "execution_count": 47,
   "id": "16152e1c",
   "metadata": {},
   "outputs": [],
   "source": [
    "import sys"
   ]
  },
  {
   "cell_type": "code",
   "execution_count": 51,
   "id": "86a58101",
   "metadata": {},
   "outputs": [
    {
     "data": {
      "text/plain": [
       "4696"
      ]
     },
     "execution_count": 51,
     "metadata": {},
     "output_type": "execute_result"
    }
   ],
   "source": [
    "new_bs = {}\n",
    "for key in bs.keys():\n",
    "    new_bs[key] = 0\n"
   ]
  },
  {
   "cell_type": "code",
   "execution_count": 52,
   "id": "1b12d9a3",
   "metadata": {},
   "outputs": [],
   "source": [
    "import copy"
   ]
  },
  {
   "cell_type": "code",
   "execution_count": 53,
   "id": "03f36844",
   "metadata": {},
   "outputs": [
    {
     "data": {
      "text/plain": [
       "72"
      ]
     },
     "execution_count": 53,
     "metadata": {},
     "output_type": "execute_result"
    }
   ],
   "source": [
    "sys.getsizeof([copy.deepcopy(bs),copy.deepcopy(bs)])"
   ]
  },
  {
   "cell_type": "code",
   "execution_count": 71,
   "id": "db7016da",
   "metadata": {},
   "outputs": [
    {
     "name": "stdout",
     "output_type": "stream",
     "text": [
      "r n b q k b n r\n",
      "p p p p p p p p\n",
      ". . . . . . . .\n",
      ". . . . . . . .\n",
      ". . . . . . . .\n",
      ". . . . . . . .\n",
      "P P P P P P P P\n",
      "R N B Q K B N R\n"
     ]
    }
   ],
   "source": [
    "print(game1.board())"
   ]
  },
  {
   "cell_type": "code",
   "execution_count": 81,
   "id": "c67ea905",
   "metadata": {},
   "outputs": [
    {
     "name": "stderr",
     "output_type": "stream",
     "text": [
      "<>:1: SyntaxWarning: list indices must be integers or slices, not list; perhaps you missed a comma?\n",
      "<>:1: SyntaxWarning: list indices must be integers or slices, not list; perhaps you missed a comma?\n",
      "C:\\Users\\alexpc2red\\AppData\\Local\\Temp\\ipykernel_10724\\3330116584.py:1: SyntaxWarning: list indices must be integers or slices, not list; perhaps you missed a comma?\n",
      "  ['a','b','c','d','e','f'][[1,2,3]]\n",
      "C:\\Users\\alexpc2red\\AppData\\Local\\Temp\\ipykernel_10724\\3330116584.py:1: SyntaxWarning: list indices must be integers or slices, not list; perhaps you missed a comma?\n",
      "  ['a','b','c','d','e','f'][[1,2,3]]\n",
      "C:\\Users\\alexpc2red\\AppData\\Local\\Temp\\ipykernel_10724\\3330116584.py:1: SyntaxWarning: list indices must be integers or slices, not list; perhaps you missed a comma?\n",
      "  ['a','b','c','d','e','f'][[1,2,3]]\n"
     ]
    },
    {
     "ename": "TypeError",
     "evalue": "list indices must be integers or slices, not list",
     "output_type": "error",
     "traceback": [
      "\u001b[1;31m---------------------------------------------------------------------------\u001b[0m",
      "\u001b[1;31mTypeError\u001b[0m                                 Traceback (most recent call last)",
      "Cell \u001b[1;32mIn[81], line 1\u001b[0m\n\u001b[1;32m----> 1\u001b[0m \u001b[43m[\u001b[49m\u001b[38;5;124;43m'\u001b[39;49m\u001b[38;5;124;43ma\u001b[39;49m\u001b[38;5;124;43m'\u001b[39;49m\u001b[43m,\u001b[49m\u001b[38;5;124;43m'\u001b[39;49m\u001b[38;5;124;43mb\u001b[39;49m\u001b[38;5;124;43m'\u001b[39;49m\u001b[43m,\u001b[49m\u001b[38;5;124;43m'\u001b[39;49m\u001b[38;5;124;43mc\u001b[39;49m\u001b[38;5;124;43m'\u001b[39;49m\u001b[43m,\u001b[49m\u001b[38;5;124;43m'\u001b[39;49m\u001b[38;5;124;43md\u001b[39;49m\u001b[38;5;124;43m'\u001b[39;49m\u001b[43m,\u001b[49m\u001b[38;5;124;43m'\u001b[39;49m\u001b[38;5;124;43me\u001b[39;49m\u001b[38;5;124;43m'\u001b[39;49m\u001b[43m,\u001b[49m\u001b[38;5;124;43m'\u001b[39;49m\u001b[38;5;124;43mf\u001b[39;49m\u001b[38;5;124;43m'\u001b[39;49m\u001b[43m]\u001b[49m\u001b[43m[\u001b[49m\u001b[43m[\u001b[49m\u001b[38;5;241;43m1\u001b[39;49m\u001b[43m,\u001b[49m\u001b[38;5;241;43m2\u001b[39;49m\u001b[43m,\u001b[49m\u001b[38;5;241;43m3\u001b[39;49m\u001b[43m]\u001b[49m\u001b[43m]\u001b[49m\n",
      "\u001b[1;31mTypeError\u001b[0m: list indices must be integers or slices, not list"
     ]
    }
   ],
   "source": [
    "['a','b','c','d','e','f'][[1,2,3]]"
   ]
  },
  {
   "cell_type": "code",
   "execution_count": 116,
   "id": "c091a342",
   "metadata": {},
   "outputs": [
    {
     "data": {
      "text/plain": [
       "ValueError"
      ]
     },
     "execution_count": 116,
     "metadata": {},
     "output_type": "execute_result"
    }
   ],
   "source": [
    "ValueError"
   ]
  },
  {
   "cell_type": "code",
   "execution_count": 122,
   "id": "21fa84bc",
   "metadata": {},
   "outputs": [
    {
     "data": {
      "text/plain": [
       "'rnbqkbnr/pppppppp/8/8/8/8/PPPPPPPP/RNBQKBNR w KQkq - 0 1'"
      ]
     },
     "execution_count": 122,
     "metadata": {},
     "output_type": "execute_result"
    }
   ],
   "source": [
    "board.fen()"
   ]
  },
  {
   "cell_type": "code",
   "execution_count": 123,
   "id": "3b246992",
   "metadata": {},
   "outputs": [
    {
     "data": {
      "text/plain": [
       "'rnbqkbnr/pppppppp/8/8/8/8/PPPPPPPP/RNBQKBNR'"
      ]
     },
     "execution_count": 123,
     "metadata": {},
     "output_type": "execute_result"
    }
   ],
   "source": [
    "board.fen().split(' ')[0]"
   ]
  },
  {
   "cell_type": "code",
   "execution_count": null,
   "id": "782d4a97",
   "metadata": {},
   "outputs": [],
   "source": []
  }
 ],
 "metadata": {
  "kernelspec": {
   "display_name": "Python 3 (ipykernel)",
   "language": "python",
   "name": "python3"
  },
  "language_info": {
   "codemirror_mode": {
    "name": "ipython",
    "version": 3
   },
   "file_extension": ".py",
   "mimetype": "text/x-python",
   "name": "python",
   "nbconvert_exporter": "python",
   "pygments_lexer": "ipython3",
   "version": "3.10.4"
  }
 },
 "nbformat": 4,
 "nbformat_minor": 5
}
