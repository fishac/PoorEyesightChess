{
 "cells": [
  {
   "cell_type": "code",
   "execution_count": 8,
   "id": "57734c97",
   "metadata": {},
   "outputs": [],
   "source": [
    "import pandas as pd\n",
    "import torch\n",
    "import torch.optim as optim\n",
    "import torch.nn as nn\n",
    "import time\n",
    "import SquareData\n",
    "import PoorEyesightModel"
   ]
  },
  {
   "cell_type": "code",
   "execution_count": 9,
   "id": "e7a87ac8",
   "metadata": {},
   "outputs": [
    {
     "data": {
      "text/plain": [
       "device(type='cuda')"
      ]
     },
     "execution_count": 9,
     "metadata": {},
     "output_type": "execute_result"
    }
   ],
   "source": [
    "device = torch.device('cuda' if torch.cuda.is_available() else 'cpu')\n",
    "device"
   ]
  },
  {
   "cell_type": "code",
   "execution_count": 10,
   "id": "40e09f88",
   "metadata": {},
   "outputs": [],
   "source": [
    "net = PoorEyesightModel.PoorEyesightModel(64*2*16, 64*2*64, 64*2*32)\n",
    "net.to(device)\n",
    "optimizer = optim.SGD(net.parameters(), lr=0.001, momentum=0.9)\n",
    "#criterion = PoorEyesightLoss\n",
    "criterion = nn.CrossEntropyLoss()"
   ]
  },
  {
   "cell_type": "code",
   "execution_count": 11,
   "id": "40763b39",
   "metadata": {},
   "outputs": [
    {
     "data": {
      "text/plain": [
       "Sigmoid()"
      ]
     },
     "execution_count": 11,
     "metadata": {},
     "output_type": "execute_result"
    }
   ],
   "source": [
    "net.nonlinearity"
   ]
  },
  {
   "cell_type": "code",
   "execution_count": 12,
   "id": "6a0a2b79",
   "metadata": {},
   "outputs": [],
   "source": [
    "n_epochs = 30\n",
    "batch_size = 1000\n",
    "n_batches_per_file = int(100000/batch_size)\n",
    "total_files = 55"
   ]
  },
  {
   "cell_type": "code",
   "execution_count": 13,
   "id": "3f0fb7f5",
   "metadata": {
    "scrolled": true
   },
   "outputs": [
    {
     "name": "stdout",
     "output_type": "stream",
     "text": [
      "EPOCH: 0\n",
      "Epoch 0 loss: 2158664.5000, average board state loss: 0.3925, total time: 552.93\n",
      "EPOCH: 1\n",
      "Epoch 1 loss: 2152810.2500, average board state loss: 0.3914, total time: 1100.30\n",
      "EPOCH: 2\n",
      "Epoch 2 loss: 2150826.5000, average board state loss: 0.3911, total time: 1643.14\n",
      "EPOCH: 3\n",
      "Epoch 3 loss: 2149963.2500, average board state loss: 0.3909, total time: 2153.16\n",
      "EPOCH: 4\n"
     ]
    },
    {
     "ename": "KeyboardInterrupt",
     "evalue": "",
     "output_type": "error",
     "traceback": [
      "\u001b[1;31m---------------------------------------------------------------------------\u001b[0m",
      "\u001b[1;31mKeyboardInterrupt\u001b[0m                         Traceback (most recent call last)",
      "Cell \u001b[1;32mIn[13], line 19\u001b[0m\n\u001b[0;32m     17\u001b[0m output \u001b[38;5;241m=\u001b[39m net(input_data_batch)\n\u001b[0;32m     18\u001b[0m loss \u001b[38;5;241m=\u001b[39m criterion(output,output_data_batch)\n\u001b[1;32m---> 19\u001b[0m \u001b[43mloss\u001b[49m\u001b[38;5;241;43m.\u001b[39;49m\u001b[43mbackward\u001b[49m\u001b[43m(\u001b[49m\u001b[43m)\u001b[49m\n\u001b[0;32m     20\u001b[0m optimizer\u001b[38;5;241m.\u001b[39mstep()\n\u001b[0;32m     21\u001b[0m data_idx \u001b[38;5;241m+\u001b[39m\u001b[38;5;241m=\u001b[39m batch_size\n",
      "File \u001b[1;32m~\\AppData\\Local\\Programs\\Python\\Python310\\lib\\site-packages\\torch\\_tensor.py:487\u001b[0m, in \u001b[0;36mTensor.backward\u001b[1;34m(self, gradient, retain_graph, create_graph, inputs)\u001b[0m\n\u001b[0;32m    477\u001b[0m \u001b[38;5;28;01mif\u001b[39;00m has_torch_function_unary(\u001b[38;5;28mself\u001b[39m):\n\u001b[0;32m    478\u001b[0m     \u001b[38;5;28;01mreturn\u001b[39;00m handle_torch_function(\n\u001b[0;32m    479\u001b[0m         Tensor\u001b[38;5;241m.\u001b[39mbackward,\n\u001b[0;32m    480\u001b[0m         (\u001b[38;5;28mself\u001b[39m,),\n\u001b[1;32m   (...)\u001b[0m\n\u001b[0;32m    485\u001b[0m         inputs\u001b[38;5;241m=\u001b[39minputs,\n\u001b[0;32m    486\u001b[0m     )\n\u001b[1;32m--> 487\u001b[0m \u001b[43mtorch\u001b[49m\u001b[38;5;241;43m.\u001b[39;49m\u001b[43mautograd\u001b[49m\u001b[38;5;241;43m.\u001b[39;49m\u001b[43mbackward\u001b[49m\u001b[43m(\u001b[49m\n\u001b[0;32m    488\u001b[0m \u001b[43m    \u001b[49m\u001b[38;5;28;43mself\u001b[39;49m\u001b[43m,\u001b[49m\u001b[43m \u001b[49m\u001b[43mgradient\u001b[49m\u001b[43m,\u001b[49m\u001b[43m \u001b[49m\u001b[43mretain_graph\u001b[49m\u001b[43m,\u001b[49m\u001b[43m \u001b[49m\u001b[43mcreate_graph\u001b[49m\u001b[43m,\u001b[49m\u001b[43m \u001b[49m\u001b[43minputs\u001b[49m\u001b[38;5;241;43m=\u001b[39;49m\u001b[43minputs\u001b[49m\n\u001b[0;32m    489\u001b[0m \u001b[43m\u001b[49m\u001b[43m)\u001b[49m\n",
      "File \u001b[1;32m~\\AppData\\Local\\Programs\\Python\\Python310\\lib\\site-packages\\torch\\autograd\\__init__.py:190\u001b[0m, in \u001b[0;36mbackward\u001b[1;34m(tensors, grad_tensors, retain_graph, create_graph, grad_variables, inputs)\u001b[0m\n\u001b[0;32m    186\u001b[0m inputs \u001b[38;5;241m=\u001b[39m (inputs,) \u001b[38;5;28;01mif\u001b[39;00m \u001b[38;5;28misinstance\u001b[39m(inputs, torch\u001b[38;5;241m.\u001b[39mTensor) \u001b[38;5;28;01melse\u001b[39;00m \\\n\u001b[0;32m    187\u001b[0m     \u001b[38;5;28mtuple\u001b[39m(inputs) \u001b[38;5;28;01mif\u001b[39;00m inputs \u001b[38;5;129;01mis\u001b[39;00m \u001b[38;5;129;01mnot\u001b[39;00m \u001b[38;5;28;01mNone\u001b[39;00m \u001b[38;5;28;01melse\u001b[39;00m \u001b[38;5;28mtuple\u001b[39m()\n\u001b[0;32m    189\u001b[0m grad_tensors_ \u001b[38;5;241m=\u001b[39m _tensor_or_tensors_to_tuple(grad_tensors, \u001b[38;5;28mlen\u001b[39m(tensors))\n\u001b[1;32m--> 190\u001b[0m grad_tensors_ \u001b[38;5;241m=\u001b[39m \u001b[43m_make_grads\u001b[49m\u001b[43m(\u001b[49m\u001b[43mtensors\u001b[49m\u001b[43m,\u001b[49m\u001b[43m \u001b[49m\u001b[43mgrad_tensors_\u001b[49m\u001b[43m,\u001b[49m\u001b[43m \u001b[49m\u001b[43mis_grads_batched\u001b[49m\u001b[38;5;241;43m=\u001b[39;49m\u001b[38;5;28;43;01mFalse\u001b[39;49;00m\u001b[43m)\u001b[49m\n\u001b[0;32m    191\u001b[0m \u001b[38;5;28;01mif\u001b[39;00m retain_graph \u001b[38;5;129;01mis\u001b[39;00m \u001b[38;5;28;01mNone\u001b[39;00m:\n\u001b[0;32m    192\u001b[0m     retain_graph \u001b[38;5;241m=\u001b[39m create_graph\n",
      "File \u001b[1;32m~\\AppData\\Local\\Programs\\Python\\Python310\\lib\\site-packages\\torch\\autograd\\__init__.py:86\u001b[0m, in \u001b[0;36m_make_grads\u001b[1;34m(outputs, grads, is_grads_batched)\u001b[0m\n\u001b[0;32m     84\u001b[0m     \u001b[38;5;28;01mif\u001b[39;00m out\u001b[38;5;241m.\u001b[39mnumel() \u001b[38;5;241m!=\u001b[39m \u001b[38;5;241m1\u001b[39m:\n\u001b[0;32m     85\u001b[0m         \u001b[38;5;28;01mraise\u001b[39;00m \u001b[38;5;167;01mRuntimeError\u001b[39;00m(\u001b[38;5;124m\"\u001b[39m\u001b[38;5;124mgrad can be implicitly created only for scalar outputs\u001b[39m\u001b[38;5;124m\"\u001b[39m)\n\u001b[1;32m---> 86\u001b[0m     new_grads\u001b[38;5;241m.\u001b[39mappend(\u001b[43mtorch\u001b[49m\u001b[38;5;241;43m.\u001b[39;49m\u001b[43mones_like\u001b[49m\u001b[43m(\u001b[49m\u001b[43mout\u001b[49m\u001b[43m,\u001b[49m\u001b[43m \u001b[49m\u001b[43mmemory_format\u001b[49m\u001b[38;5;241;43m=\u001b[39;49m\u001b[43mtorch\u001b[49m\u001b[38;5;241;43m.\u001b[39;49m\u001b[43mpreserve_format\u001b[49m\u001b[43m)\u001b[49m)\n\u001b[0;32m     87\u001b[0m \u001b[38;5;28;01melse\u001b[39;00m:\n\u001b[0;32m     88\u001b[0m     new_grads\u001b[38;5;241m.\u001b[39mappend(\u001b[38;5;28;01mNone\u001b[39;00m)\n",
      "\u001b[1;31mKeyboardInterrupt\u001b[0m: "
     ]
    }
   ],
   "source": [
    "start = time.time()\n",
    "for epoch in range(n_epochs):\n",
    "    print(f'EPOCH: {epoch}')\n",
    "    epoch_loss = 0\n",
    "    for file_idx in range(total_files):\n",
    "        #print(f'Loading file ./processed_data/processed_data_{file_idx}.csv')\n",
    "        df = pd.read_csv(f'./processed_data/processed_data_{file_idx}.csv')\n",
    "        input_data = torch.FloatTensor(df[SquareData.input_features].values).to(device)\n",
    "        output_data = torch.FloatTensor(df[SquareData.output_features].values).to(device)\n",
    "\n",
    "        data_idx = 0\n",
    "        for batch_idx in range(n_batches_per_file):\n",
    "            input_data_batch = input_data[data_idx:(data_idx+batch_size)]\n",
    "            output_data_batch = output_data[data_idx:(data_idx+batch_size)]\n",
    "\n",
    "            optimizer.zero_grad()\n",
    "            output = net(input_data_batch)\n",
    "            loss = criterion(output,output_data_batch)\n",
    "            loss.backward()\n",
    "            optimizer.step()\n",
    "            data_idx += batch_size\n",
    "            epoch_loss += loss\n",
    "            #print(f'Batch {batch_idx} loss: {loss:.4f}, total time: {(time.time()-start):.2f}')\n",
    "    print(f'Epoch {epoch} loss: {epoch_loss:.4f}, average board state loss: {epoch_loss/5500000:.4f}, total time: {(time.time()-start):.2f}')\n"
   ]
  },
  {
   "cell_type": "code",
   "execution_count": 17,
   "id": "e2995490",
   "metadata": {},
   "outputs": [],
   "source": [
    "torch.save(net.state_dict(), './30epoch_net2.pt')"
   ]
  },
  {
   "cell_type": "code",
   "execution_count": 17,
   "id": "6474ce01",
   "metadata": {},
   "outputs": [
    {
     "data": {
      "text/plain": [
       "tensor([0., 0., 1., 1., 0., 0., 0., 0., 1., 0., 0., 1., 0., 0., 1., 0., 0., 1.,\n",
       "        0., 1., 0., 0., 0., 1., 0., 0., 1., 1., 0., 0., 0., 0., 1., 0., 0., 1.,\n",
       "        0., 0., 1., 0., 1., 0., 0., 0., 1., 0., 0., 1., 0., 0., 1., 1., 0., 0.,\n",
       "        0., 0., 1., 0., 0., 1., 0., 1., 0., 0., 0., 1., 0., 0., 1., 0., 0., 1.,\n",
       "        1., 0., 0., 0., 0., 1., 1., 0., 0., 0., 1., 0., 0., 0., 1., 0., 0., 1.,\n",
       "        0., 0., 1., 0., 1., 0., 0., 0., 1., 0., 0., 1., 1., 0., 0., 0., 1., 0.,\n",
       "        0., 0., 1., 0., 0., 1., 0., 0., 1., 0., 1., 0., 1., 0., 0., 1., 0., 0.,\n",
       "        0., 0., 1., 0., 0., 1., 0., 0., 1., 0., 0., 1., 0., 0., 1., 0., 0., 1.,\n",
       "        0., 0., 1., 1., 0., 0., 1., 0., 0., 0., 0., 1., 0., 0., 1., 0., 1., 0.,\n",
       "        0., 1., 0., 0., 0., 1., 0., 0., 1., 1., 0., 0., 0., 0., 1., 0., 0., 1.,\n",
       "        0., 0., 1., 0., 0., 1., 0., 1., 0., 0., 0., 1.], device='cuda:0')"
      ]
     },
     "execution_count": 17,
     "metadata": {},
     "output_type": "execute_result"
    }
   ],
   "source": [
    "input_data_batch[0]"
   ]
  },
  {
   "cell_type": "code",
   "execution_count": 18,
   "id": "ced52e6f",
   "metadata": {},
   "outputs": [],
   "source": [
    "testout = net(input_data_batch)"
   ]
  },
  {
   "cell_type": "code",
   "execution_count": 30,
   "id": "6d0f99e5",
   "metadata": {},
   "outputs": [
    {
     "data": {
      "text/plain": [
       "{'a1': 'x',\n",
       " 'a2': 'wp',\n",
       " 'a3': 'x',\n",
       " 'a4': 'x',\n",
       " 'a5': 'x',\n",
       " 'a6': 'x',\n",
       " 'a7': 'bp',\n",
       " 'a8': 'x',\n",
       " 'b1': 'x',\n",
       " 'b2': 'wp',\n",
       " 'b3': 'x',\n",
       " 'b4': 'x',\n",
       " 'b5': 'x',\n",
       " 'b6': 'x',\n",
       " 'b7': 'x',\n",
       " 'b8': 'x',\n",
       " 'c1': 'x',\n",
       " 'c2': 'x',\n",
       " 'c3': 'x',\n",
       " 'c4': 'x',\n",
       " 'c5': 'x',\n",
       " 'c6': 'x',\n",
       " 'c7': 'x',\n",
       " 'c8': 'x',\n",
       " 'd1': 'x',\n",
       " 'd2': 'x',\n",
       " 'd3': 'x',\n",
       " 'd4': 'x',\n",
       " 'd5': 'x',\n",
       " 'd6': 'x',\n",
       " 'd7': 'x',\n",
       " 'd8': 'x',\n",
       " 'e1': 'x',\n",
       " 'e2': 'x',\n",
       " 'e3': 'x',\n",
       " 'e4': 'x',\n",
       " 'e5': 'x',\n",
       " 'e6': 'x',\n",
       " 'e7': 'x',\n",
       " 'e8': 'x',\n",
       " 'f1': 'x',\n",
       " 'f2': 'wp',\n",
       " 'f3': 'x',\n",
       " 'f4': 'x',\n",
       " 'f5': 'x',\n",
       " 'f6': 'x',\n",
       " 'f7': 'bp',\n",
       " 'f8': 'x',\n",
       " 'g1': 'x',\n",
       " 'g2': 'wp',\n",
       " 'g3': 'x',\n",
       " 'g4': 'x',\n",
       " 'g5': 'x',\n",
       " 'g6': 'x',\n",
       " 'g7': 'bp',\n",
       " 'g8': 'x',\n",
       " 'h1': 'x',\n",
       " 'h2': 'wp',\n",
       " 'h3': 'x',\n",
       " 'h4': 'x',\n",
       " 'h5': 'x',\n",
       " 'h6': 'x',\n",
       " 'h7': 'bp',\n",
       " 'h8': 'x'}"
      ]
     },
     "execution_count": 30,
     "metadata": {},
     "output_type": "execute_result"
    }
   ],
   "source": [
    "PoorEyesightPredictBoardState(testout[0])"
   ]
  },
  {
   "cell_type": "code",
   "execution_count": 31,
   "id": "2f8b839b",
   "metadata": {},
   "outputs": [
    {
     "data": {
      "text/plain": [
       "{'a1': 'x',\n",
       " 'a2': 'wp',\n",
       " 'a3': 'x',\n",
       " 'a4': 'x',\n",
       " 'a5': 'x',\n",
       " 'a6': 'x',\n",
       " 'a7': 'bp',\n",
       " 'a8': 'x',\n",
       " 'b1': 'x',\n",
       " 'b2': 'wp',\n",
       " 'b3': 'x',\n",
       " 'b4': 'x',\n",
       " 'b5': 'x',\n",
       " 'b6': 'bp',\n",
       " 'b7': 'x',\n",
       " 'b8': 'x',\n",
       " 'c1': 'x',\n",
       " 'c2': 'wp',\n",
       " 'c3': 'x',\n",
       " 'c4': 'x',\n",
       " 'c5': 'bp',\n",
       " 'c6': 'x',\n",
       " 'c7': 'x',\n",
       " 'c8': 'x',\n",
       " 'd1': 'wr',\n",
       " 'd2': 'x',\n",
       " 'd3': 'wr',\n",
       " 'd4': 'bp',\n",
       " 'd5': 'x',\n",
       " 'd6': 'x',\n",
       " 'd7': 'x',\n",
       " 'd8': 'br',\n",
       " 'e1': 'x',\n",
       " 'e2': 'x',\n",
       " 'e3': 'wb',\n",
       " 'e4': 'bq',\n",
       " 'e5': 'x',\n",
       " 'e6': 'x',\n",
       " 'e7': 'x',\n",
       " 'e8': 'br',\n",
       " 'f1': 'wk',\n",
       " 'f2': 'wp',\n",
       " 'f3': 'x',\n",
       " 'f4': 'x',\n",
       " 'f5': 'x',\n",
       " 'f6': 'x',\n",
       " 'f7': 'x',\n",
       " 'f8': 'x',\n",
       " 'g1': 'x',\n",
       " 'g2': 'wp',\n",
       " 'g3': 'wq',\n",
       " 'g4': 'x',\n",
       " 'g5': 'x',\n",
       " 'g6': 'bp',\n",
       " 'g7': 'bb',\n",
       " 'g8': 'x',\n",
       " 'h1': 'x',\n",
       " 'h2': 'wp',\n",
       " 'h3': 'x',\n",
       " 'h4': 'x',\n",
       " 'h5': 'x',\n",
       " 'h6': 'x',\n",
       " 'h7': 'bk',\n",
       " 'h8': 'x'}"
      ]
     },
     "execution_count": 31,
     "metadata": {},
     "output_type": "execute_result"
    }
   ],
   "source": [
    "PoorEyesightPredictBoardState(output_data_batch[0])"
   ]
  },
  {
   "cell_type": "code",
   "execution_count": 20,
   "id": "dfd31be3",
   "metadata": {},
   "outputs": [
    {
     "data": {
      "text/plain": [
       "tensor([[1.2496e-09, 9.5996e-10, 1.2459e-09,  ..., 2.3640e-09, 5.0241e-09,\n",
       "         1.0000e+00],\n",
       "        [2.0145e-07, 1.3505e-07, 1.9613e-07,  ..., 1.1117e-08, 1.4129e-08,\n",
       "         1.0000e+00],\n",
       "        [2.2429e-08, 1.2148e-08, 1.2452e-08,  ..., 7.9614e-09, 1.8573e-08,\n",
       "         1.0000e+00],\n",
       "        ...,\n",
       "        [1.2445e-09, 8.8979e-10, 1.1421e-09,  ..., 2.4875e-09, 4.5412e-09,\n",
       "         1.0000e+00],\n",
       "        [1.3085e-08, 7.4193e-09, 6.4804e-09,  ..., 6.3021e-09, 1.0924e-08,\n",
       "         1.0000e+00],\n",
       "        [6.4931e-08, 6.5663e-08, 9.1911e-08,  ..., 4.0254e-09, 5.7009e-09,\n",
       "         1.0000e+00]], device='cuda:0', grad_fn=<CatBackward0>)"
      ]
     },
     "execution_count": 20,
     "metadata": {},
     "output_type": "execute_result"
    }
   ],
   "source": [
    "testout"
   ]
  },
  {
   "cell_type": "code",
   "execution_count": 24,
   "id": "dd2c0e61",
   "metadata": {},
   "outputs": [
    {
     "data": {
      "text/plain": [
       "torch.Size([1000, 800])"
      ]
     },
     "execution_count": 24,
     "metadata": {},
     "output_type": "execute_result"
    }
   ],
   "source": [
    "testout.shape"
   ]
  },
  {
   "cell_type": "code",
   "execution_count": null,
   "id": "3f8f8a9e",
   "metadata": {},
   "outputs": [],
   "source": [
    "{'a1': 'x','a2': 'wp','a3': 'x','a4': 'x','a5': 'x','a6': 'x','a7': 'bp','a8': 'x',\n",
    " 'b1': 'x','b2': 'wp','b3': 'x','b4': 'x','b5': 'x','b6': 'bp','b7': 'x','b8': 'x',\n",
    " 'c1': 'x','c2': 'wp','c3': 'x','c4': 'x','c5': 'bp','c6': 'x','c7': 'x','c8': 'x',\n",
    " 'd1': 'wr','d2': 'x','d3': 'wr','d4': 'bp','d5': 'x','d6': 'x','d7': 'x','d8': 'br',\n",
    " 'e1': 'x','e2': 'x','e3': 'wb','e4': 'bq','e5': 'x','e6': 'x','e7': 'x','e8': 'br',\n",
    " 'f1': 'wk','f2': 'wp','f3': 'x','f4': 'x','f5': 'x','f6': 'x','f7': 'x','f8': 'x',\n",
    " 'g1': 'x','g2': 'wp','g3': 'wq','g4': 'x','g5': 'x','g6': 'bp','g7': 'bb','g8': 'x',\n",
    " 'h1': 'x','h2': 'wp','h3': 'x','h4': 'x','h5': 'x','h6': 'x','h7': 'bk','h8': 'x'}\n",
    "\n",
    "{'a1': 'x','a2': 'wp','a3': 'x','a4': 'x','a5': 'x','a6': 'x','a7': 'bp','a8': 'x',\n",
    " 'b1': 'x','b2': 'wp','b3': 'x','b4': 'x','b5': 'x','b6': 'x','b7': 'x','b8': 'x',\n",
    " 'c1': 'x','c2': 'x','c3': 'x','c4': 'x','c5': 'x','c6': 'x','c7': 'x','c8': 'x',\n",
    " 'd1': 'x','d2': 'x','d3': 'x','d4': 'x','d5': 'x','d6': 'x','d7': 'x','d8': 'x',\n",
    " 'e1': 'x','e2': 'x','e3': 'x','e4': 'x','e5': 'x','e6': 'x','e7': 'x','e8': 'x',\n",
    " 'f1': 'x','f2': 'wp','f3': 'x','f4': 'x','f5': 'x','f6': 'x','f7': 'bp','f8': 'x',\n",
    " 'g1': 'x','g2': 'wp','g3': 'x','g4': 'x','g5': 'x','g6': 'x','g7': 'bp','g8': 'x',\n",
    " 'h1': 'x','h2': 'wp','h3': 'x','h4': 'x','h5': 'x','h6': 'x','h7': 'bp','h8': 'x'}"
   ]
  }
 ],
 "metadata": {
  "kernelspec": {
   "display_name": "Python 3 (ipykernel)",
   "language": "python",
   "name": "python3"
  },
  "language_info": {
   "codemirror_mode": {
    "name": "ipython",
    "version": 3
   },
   "file_extension": ".py",
   "mimetype": "text/x-python",
   "name": "python",
   "nbconvert_exporter": "python",
   "pygments_lexer": "ipython3",
   "version": "3.10.4"
  }
 },
 "nbformat": 4,
 "nbformat_minor": 5
}
